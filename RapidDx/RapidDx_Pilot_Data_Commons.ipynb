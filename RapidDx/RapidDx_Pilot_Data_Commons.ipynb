{
 "cells": [
  {
   "cell_type": "markdown",
   "metadata": {},
   "source": [
    "# Differential Expression Gene Analysis for RapidDx Pilot"
   ]
  },
  {
   "cell_type": "markdown",
   "metadata": {},
   "source": [
    "### Libraries and packages Installation"
   ]
  },
  {
   "cell_type": "markdown",
   "metadata": {},
   "source": [
    "1) Install packages:"
   ]
  },
  {
   "cell_type": "code",
   "execution_count": null,
   "metadata": {},
   "outputs": [],
   "source": [
    "install.packages(\"gplots\")\n",
    "install.packages(\"DT\")\n",
    "install.packages(\"calibrate\")\n",
    "install.packages(\"statmod\")"
   ]
  },
  {
   "cell_type": "markdown",
   "metadata": {},
   "source": [
    "2) Install Bioconductor libraries:"
   ]
  },
  {
   "cell_type": "code",
   "execution_count": null,
   "metadata": {},
   "outputs": [],
   "source": [
    "library(BiocInstaller)\n",
    "biocLite()\n",
    "biocLite(\"impute\") # requirements for WGCNA package\n",
    "biocLite(\"GO.db\")\n",
    "biocLite(\"preprocessCore\")\n",
    "biocLite(\"limma\")\n",
    "biocLite(\"lumi\")"
   ]
  },
  {
   "cell_type": "code",
   "execution_count": null,
   "metadata": {},
   "outputs": [],
   "source": [
    "install.packages(\"WGCNA\")"
   ]
  },
  {
   "cell_type": "markdown",
   "metadata": {},
   "source": [
    "## GENE EXPRESSION ANALYSIS"
   ]
  },
  {
   "cell_type": "markdown",
   "metadata": {},
   "source": [
    "#### Import libraries"
   ]
  },
  {
   "cell_type": "code",
   "execution_count": null,
   "metadata": {},
   "outputs": [],
   "source": [
    "library(RColorBrewer) # Colour palette\n",
    "library(xtable)       # HTML tables for Rmarkdown, http://kbroman.org/knitr_knutshell/pages/figs_tables.html\n",
    "library(readr)\n",
    "library(readxl)   \n",
    "library(plyr) \n",
    "library(calibrate)\n",
    "library(WGCNA)        # Gene modules\n",
    "library(gplots)       # Pretty heatmaps\n",
    "library(DT)\n",
    "library(limma) \n",
    "library(biomaRt)"
   ]
  },
  {
   "cell_type": "code",
   "execution_count": null,
   "metadata": {},
   "outputs": [],
   "source": [
    "table_html_attributes <- 'border=\"3\" align=\"center\" style=\"border-collapse: collapse; text-align: right; width: 75%; background-color: #f7f7f7; border-color: #cccccc; \"' ## HTML/CSS for xtable formatting"
   ]
  },
  {
   "cell_type": "markdown",
   "metadata": {},
   "source": [
    "#### Get study files:\n",
    "1. **Study:** GSE63878\n",
    "2. **Platform:** GPL6244 = [HuGene-1_0-st] Affymetrix Human Gene 1.0 ST Array [transcript (gene) version]"
   ]
  },
  {
   "cell_type": "code",
   "execution_count": null,
   "metadata": {},
   "outputs": [],
   "source": [
    "source('brain_api_functions.R')\n",
    "GSE63878 <- download_data('GSE63878')\n",
    "dataA=GSE63878\n",
    "head(dataA)"
   ]
  },
  {
   "cell_type": "code",
   "execution_count": null,
   "metadata": {},
   "outputs": [],
   "source": [
    "row.names(dataA)=unlist(dataA[,2])\n",
    "names(dataA)[names(dataA)==\"Gene Symbol\"]=\"Symbol\"\n",
    "dim(dataA)"
   ]
  },
  {
   "cell_type": "code",
   "execution_count": null,
   "metadata": {},
   "outputs": [],
   "source": [
    "class(dataA$Symbol)\n",
    "exprs.max <- apply(dataA, 1, max)\n"
   ]
  },
  {
   "cell_type": "markdown",
   "metadata": {},
   "source": [
    "#### Remove outliers:"
   ]
  },
  {
   "cell_type": "code",
   "execution_count": null,
   "metadata": {},
   "outputs": [],
   "source": [
    "beta.normA=dataA[,-c(1,2,99, 100, 101, 102,103)]\n",
    "beta.normA= sapply(beta.normA, as.numeric)\n",
    "row.names(beta.normA)=unlist(dataA[,2]) # then fix row names\n",
    "dim(beta.normA)"
   ]
  },
  {
   "cell_type": "markdown",
   "metadata": {},
   "source": [
    "#### Load phenotypes:"
   ]
  },
  {
   "cell_type": "code",
   "execution_count": null,
   "metadata": {},
   "outputs": [],
   "source": [
    "#pheno_63878 <- read_delim(\"pheno_63878_2.txt\", \"\\t\", escape_double = FALSE, trim_ws = TRUE)\n",
    "pheno_63878 <- get_phenodata('bhc-RAPID-DxPilot', 'GSE63878')\n",
    "phenoA=pheno_63878\n",
    "row.names(phenoA)=unlist(phenoA[,2])\n",
    "phenoA <- data.frame(phenoA)[colnames(beta.normA),]\n",
    "dim(phenoA)"
   ]
  },
  {
   "cell_type": "markdown",
   "metadata": {},
   "source": [
    "### PRE-DEPLOYMENT ANALYSIS"
   ]
  },
  {
   "cell_type": "code",
   "execution_count": null,
   "metadata": {},
   "outputs": [],
   "source": [
    "phenoXA = phenoA[phenoA$Time==1 ,]#Selecting Time 1=pre-deployment\n",
    "# Adjusting the expression matrix to the selected subjects\n",
    "beta.normXA<- beta.normA[,rownames(phenoXA)]\n",
    "# Count subjects used in the analysis\n",
    "count(phenoXA$PTSD==1)\n",
    "count(phenoXA$PTSD==2)"
   ]
  },
  {
   "cell_type": "markdown",
   "metadata": {},
   "source": [
    "#### Step1: Create Design Matrix: \n",
    "- Age (if applicable)\n",
    "- Gender (if applicable)\n",
    "- PCs from Pop strat (if applicable) \n",
    "- Cell types (if applicable)\n",
    "- PTSD Current\n"
   ]
  },
  {
   "cell_type": "code",
   "execution_count": null,
   "metadata": {},
   "outputs": [],
   "source": [
    "design<-model.matrix(~PTSD, data=phenoXA)\n",
    "colnames(design)[2] <- \"PTSD\""
   ]
  },
  {
   "cell_type": "markdown",
   "metadata": {},
   "source": [
    "#### Step 2: Run Model"
   ]
  },
  {
   "cell_type": "code",
   "execution_count": null,
   "metadata": {},
   "outputs": [],
   "source": [
    "fit<-lmFit(beta.normXA, design) # Runs linear models\n",
    "fit.coef<-fit$coef # Extracts the beta coefficients"
   ]
  },
  {
   "cell_type": "markdown",
   "metadata": {},
   "source": [
    "Calculate the number of subjects with complete beta values"
   ]
  },
  {
   "cell_type": "code",
   "execution_count": null,
   "metadata": {},
   "outputs": [],
   "source": [
    "N.subjects<-apply(beta.normXA, 1, function(x) sum(!is.na(x)))\n",
    "fit.coef<-cbind(fit.coef, N.subjects) # Adds N subjects to the coefficients for use in weighting\n",
    "contrast.matrix<-makeContrasts(PTSD, levels=design)\n",
    "contrast.matrix # Contrast matrix extracts only the coefficient we are interested in\n",
    "rownames(contrast.matrix)[1]<-\"Intercept\" # Have to rename the contrast matrix\n",
    "contrast.matrix"
   ]
  },
  {
   "cell_type": "markdown",
   "metadata": {},
   "source": [
    "#### Step 3: Get top expressed genes and plots"
   ]
  },
  {
   "cell_type": "code",
   "execution_count": null,
   "metadata": {},
   "outputs": [],
   "source": [
    "fit2<-contrasts.fit(fit, contrast.matrix)\n",
    "fit2.ebayes<-eBayes(fit2) # Run empirical bayes\n",
    "results1=topTable(fit2.ebayes,number=nrow(fit2.ebayes),coef=1, adjust=\"BH\")\n",
    "save(fit.coef, fit2.ebayes, results1, file=\"Array_1.RData\") # These will be used in meta-analysis\n",
    "topTable(fit2.ebayes,n=10,coef=1, adjust=\"BH\")"
   ]
  },
  {
   "cell_type": "markdown",
   "metadata": {},
   "source": [
    "Make a **basic volcano plot**"
   ]
  },
  {
   "cell_type": "code",
   "execution_count": null,
   "metadata": {},
   "outputs": [],
   "source": [
    "res <- results1\n",
    "names <- rownames(res)\n",
    "rownames(res) <- NULL\n",
    "res <- cbind(names,res)\n",
    "\n",
    "par(mfrow=c(1,1))\n",
    "with(res, plot(logFC, -log10(P.Value), pch=20, main=\"PTSD_Time1: Volcano plot\", xlim=c(-1.0,1.0)))\n",
    "\n",
    "# Add colored points: red if adj.P.Val<0.05, orange of log2FC>1, green if both)\n",
    "with(subset(res, P.Value>.05 ), points(logFC, -log10(P.Value), pch=20, col=\"grey\"))\n",
    "with(subset(res, P.Value<.05 & logFC<0), points(logFC, -log10(P.Value), pch=20, col=\"light green\"))\n",
    "with(subset(res, P.Value<.05 & logFC>0), points(logFC, -log10(P.Value), pch=20, col=\"pink\"))\n",
    "with(subset(res, adj.P.Val<.05 & logFC<0), points(logFC, -log10(P.Value), pch=20, col=\"green\"))\n",
    "with(subset(res, adj.P.Val<.05 & logFC>0), points(logFC, -log10(P.Value), pch=20, col=\"red\"))\n",
    "\n",
    "# Label points with the textxy function from the calibrate plot\n",
    "with(subset(res, P.Value <0.001), textxy(logFC, -log10(P.Value), labs=names, cex=1))\n",
    "with(subset(res, P.Value <0.01 & abs(logFC)>2.0), textxy(logFC, -log10(P.Value), labs=names, cex=1))"
   ]
  },
  {
   "cell_type": "markdown",
   "metadata": {},
   "source": [
    "Plot **heatmap**"
   ]
  },
  {
   "cell_type": "code",
   "execution_count": null,
   "metadata": {},
   "outputs": [],
   "source": [
    "results1_2=results1[results1$P.Val< 0.05 & abs(results1$logFC)>0.3,] #p<0.05\n",
    "tphenoXA=t(phenoXA)\n",
    "heat_T=heatmap.2(beta.normXA[rownames(results1_2),],                \n",
    "                 trace=\"none\", density=\"none\", col=bluered(50), cexRow=1, cexCol=1, margins = c(5.0,5.0),\n",
    "                 ColSideColors=tphenoXA[\"PTSD\",], scale=\"row\")"
   ]
  },
  {
   "cell_type": "markdown",
   "metadata": {},
   "source": [
    "### POST-DEPLOYMENT ANALYSIS"
   ]
  },
  {
   "cell_type": "code",
   "execution_count": null,
   "metadata": {},
   "outputs": [],
   "source": [
    "phenoXA = phenoA[phenoA$Time==2,] # Selecting Time 2=post-deployment\n",
    "# Adjusting the expression matrix to the selected subjects\n",
    "beta.normXA<- beta.normA[,rownames(phenoXA)]\n",
    "# Count subjects used in the analysis\n",
    "count(phenoXA$PTSD==1)\n",
    "count(phenoXA$PTSD==2)"
   ]
  },
  {
   "cell_type": "markdown",
   "metadata": {},
   "source": [
    "#### Step1: Create Design Matrix"
   ]
  },
  {
   "cell_type": "code",
   "execution_count": null,
   "metadata": {},
   "outputs": [],
   "source": [
    "design<-model.matrix(~PTSD, data=phenoXA)\n",
    "colnames(design)[2] <- \"PTSD\""
   ]
  },
  {
   "cell_type": "markdown",
   "metadata": {},
   "source": [
    "#### Step 2: Run Model"
   ]
  },
  {
   "cell_type": "code",
   "execution_count": null,
   "metadata": {},
   "outputs": [],
   "source": [
    "fit<-lmFit(beta.normXA, design) # Runs linear models\n",
    "fit.coef<-fit$coef # Extracts the beta coefficients"
   ]
  },
  {
   "cell_type": "markdown",
   "metadata": {},
   "source": [
    "Calculate the number of subjects with complete beta values"
   ]
  },
  {
   "cell_type": "code",
   "execution_count": null,
   "metadata": {},
   "outputs": [],
   "source": [
    "N.subjects<-apply(beta.normXA, 1, function(x) sum(!is.na(x)))\n",
    "\n",
    "fit.coef<-cbind(fit.coef, N.subjects) # Adds N subjects to the coefficients for use in weighting\n",
    "contrast.matrix<-makeContrasts(PTSD, levels=design) # HERE HERE\n",
    "contrast.matrix # Contrast matrix extracts only the coefficient we are interested in\n",
    "rownames(contrast.matrix)[1]<-\"(Intercept)\" # Have to rename the contrast matrix\n",
    "contrast.matrix"
   ]
  },
  {
   "cell_type": "markdown",
   "metadata": {},
   "source": [
    "#### Step 3: Get top expressed genes and plots"
   ]
  },
  {
   "cell_type": "code",
   "execution_count": null,
   "metadata": {},
   "outputs": [],
   "source": [
    "fit2<-contrasts.fit(fit, contrast.matrix)\n",
    "fit2.ebayes<-eBayes(fit2) # Run empirical bayes\n",
    "results2=topTable(fit2.ebayes,number=nrow(fit2.ebayes),coef=1, adjust=\"BH\")\n",
    "save(fit.coef, fit2.ebayes, results2, file=\"Array_2.RData\") #these will be used in meta-analysis\n",
    "topTable(fit2.ebayes,n=10,coef=1, adjust=\"BH\")"
   ]
  },
  {
   "cell_type": "markdown",
   "metadata": {},
   "source": [
    "Make a **basic volcano plot**"
   ]
  },
  {
   "cell_type": "code",
   "execution_count": null,
   "metadata": {},
   "outputs": [],
   "source": [
    "res <- results2\n",
    "names <- rownames(res)\n",
    "rownames(res) <- NULL\n",
    "res <- cbind(names,res)\n",
    "\n",
    "par(mfrow=c(1,1))\n",
    "with(res, plot(logFC, -log10(P.Value), pch=20, main=\"PTSD_Time2: Volcano plot\", xlim=c(-1.0,1.0)))\n",
    "\n",
    "# Add colored points: red if adj.P.Val<0.05, orange of log2FC>1, green if both)\n",
    "with(subset(res, P.Value>.05 ), points(logFC, -log10(P.Value), pch=20, col=\"grey\"))\n",
    "with(subset(res, P.Value<.05 & logFC<0), points(logFC, -log10(P.Value), pch=20, col=\"light green\"))\n",
    "with(subset(res, P.Value<.05 & logFC>0), points(logFC, -log10(P.Value), pch=20, col=\"pink\"))\n",
    "with(subset(res, adj.P.Val<.05 & logFC<0), points(logFC, -log10(P.Value), pch=20, col=\"green\"))\n",
    "with(subset(res, adj.P.Val<.05 & logFC>0), points(logFC, -log10(P.Value), pch=20, col=\"red\"))\n",
    "\n",
    "# Label points with the textxy function from the calibrate plot\n",
    "with(subset(res, P.Value <0.001), textxy(logFC, -log10(P.Value), labs=names, cex=1))\n",
    "with(subset(res, P.Value <0.01 & abs(logFC)>0.3), textxy(logFC, -log10(P.Value), labs=names, cex=1))"
   ]
  },
  {
   "cell_type": "markdown",
   "metadata": {},
   "source": [
    "Plot **heatmap**. Label points with the textxy function from the calibrate plot"
   ]
  },
  {
   "cell_type": "code",
   "execution_count": null,
   "metadata": {},
   "outputs": [],
   "source": [
    "results2_2=results2[results2$P.Val< 0.05 & abs(results2$logFC)>0.3,] #p<0.05\n",
    "tphenoXA=t(phenoXA)\n",
    "heat_T=heatmap.2(beta.normXA[rownames(results2_2),],\n",
    "                 trace=\"none\", density=\"none\", col=bluered(50), cexRow=1, cexCol=1, margins = c(5.0,5.0),\n",
    "                 ColSideColors=tphenoXA[\"PTSD\",], scale=\"row\")"
   ]
  },
  {
   "cell_type": "markdown",
   "metadata": {},
   "source": [
    "### LONGITUDINAL ANALYSIS"
   ]
  },
  {
   "cell_type": "code",
   "execution_count": null,
   "metadata": {},
   "outputs": [],
   "source": [
    "phenoXA=phenoA\n",
    "beta.normXA=beta.normA"
   ]
  },
  {
   "cell_type": "markdown",
   "metadata": {},
   "source": [
    "#### Step1: Create Design Matrix"
   ]
  },
  {
   "cell_type": "code",
   "execution_count": null,
   "metadata": {},
   "outputs": [],
   "source": [
    "Treat <- factor(paste(phenoXA$PTSD,phenoXA$Time,sep=\".\"))\n",
    "design <- model.matrix(~0+Treat, data=phenoXA)"
   ]
  },
  {
   "cell_type": "markdown",
   "metadata": {},
   "source": [
    "#### Step2: Run model"
   ]
  },
  {
   "cell_type": "code",
   "execution_count": null,
   "metadata": {},
   "outputs": [],
   "source": [
    "corfit <- duplicateCorrelation(beta.normXA,design,block=phenoXA$FactorValue..individual.) \n",
    "corfit$consensus\n",
    "fit <- lmFit(beta.normXA,design,block=phenoXA$FactorValue..individual.,correlation=corfit$consensus)"
   ]
  },
  {
   "cell_type": "markdown",
   "metadata": {},
   "source": [
    "#### Step 3: Get top expressed genes and plots"
   ]
  },
  {
   "cell_type": "code",
   "execution_count": null,
   "metadata": {},
   "outputs": [],
   "source": [
    "cm <-makeContrasts(\n",
    "  PTSDvsControl = (Treat2.2-Treat1.2)-(Treat2.1 - Treat1.1),\n",
    "  PTSD = Treat2.2-Treat2.1,\n",
    "  Control = Treat1.2-Treat1.1,\n",
    "  levels=design)"
   ]
  },
  {
   "cell_type": "code",
   "execution_count": null,
   "metadata": {},
   "outputs": [],
   "source": [
    "fit2 <- contrasts.fit(fit, cm)\n",
    "fit2 <- eBayes(fit2)\n",
    "\n",
    "topTable(fit2, coef=\"PTSDvsControl\")\n",
    "topTable(fit2, coef=\"PTSD\")\n",
    "topTable(fit2, coef=\"Control\")\n",
    "\n",
    "longPTSDvsControl<- topTable(fit2, coef=\"PTSDvsControl\", n=80000)\n",
    "longPTSD<- topTable(fit2, coef=\"PTSD\", n=80000)\n",
    "longControl<- topTable(fit2, coef=\"Control\", n=80000)"
   ]
  },
  {
   "cell_type": "code",
   "execution_count": null,
   "metadata": {},
   "outputs": [],
   "source": [
    "res <- longPTSDvsControl\n",
    "names <- rownames(res)\n",
    "rownames(res) <- NULL\n",
    "res <- cbind(names,res)"
   ]
  },
  {
   "cell_type": "markdown",
   "metadata": {},
   "source": [
    "** Volcano plot**"
   ]
  },
  {
   "cell_type": "code",
   "execution_count": null,
   "metadata": {},
   "outputs": [],
   "source": [
    "par(mfrow=c(1,1))\n",
    "# Add colored points: red if adj.P.Val<0.05, orange of log2FC>1, green if both)\n",
    "with(res, plot(logFC, -log10(P.Value), pch=20, main=\"PTSD_Longtitudinal: Volcano plot\", xlim=c(-1.0,1.0)))\n",
    "with(subset(res, P.Value>.05 ), points(logFC, -log10(P.Value), pch=20, col=\"grey\"))\n",
    "with(subset(res, P.Value<.05 & logFC<0), points(logFC, -log10(P.Value), pch=20, col=\"light green\"))\n",
    "with(subset(res, P.Value<.05 & logFC>0), points(logFC, -log10(P.Value), pch=20, col=\"pink\"))\n",
    "with(subset(res, adj.P.Val<.05 & logFC<0), points(logFC, -log10(P.Value), pch=20, col=\"green\"))\n",
    "with(subset(res, adj.P.Val<.05 & logFC>0), points(logFC, -log10(P.Value), pch=20, col=\"red\"))\n",
    "# Label points with the textxy function from the calibrate plot\n",
    "with(subset(res, P.Value <0.01), textxy(logFC, -log10(P.Value), labs=names, cex=1))"
   ]
  },
  {
   "cell_type": "markdown",
   "metadata": {},
   "source": [
    "** Heatmap **"
   ]
  },
  {
   "cell_type": "code",
   "execution_count": null,
   "metadata": {},
   "outputs": [],
   "source": [
    "results3_2=longPTSDvsControl[longPTSDvsControl$P.Val< 0.025,] #p<0.05\n",
    "tphenoXA=t(phenoXA)"
   ]
  },
  {
   "cell_type": "code",
   "execution_count": null,
   "metadata": {},
   "outputs": [],
   "source": [
    "heat_T=heatmap.2(beta.normXA[rownames(results3_2),],\n",
    "                 trace=\"none\", density=\"none\", col=bluered(50), cexRow=1, cexCol=1, margins = c(5.0,5.0),\n",
    "                 ColSideColors=tphenoXA[\"PTSD\",], scale=\"row\")"
   ]
  }
 ],
 "metadata": {
  "kernelspec": {
   "display_name": "R",
   "language": "R",
   "name": "ir"
  },
  "language_info": {
   "codemirror_mode": "r",
   "file_extension": ".r",
   "mimetype": "text/x-r-source",
   "name": "R",
   "pygments_lexer": "r",
   "version": "3.4.1"
  }
 },
 "nbformat": 4,
 "nbformat_minor": 2
}
